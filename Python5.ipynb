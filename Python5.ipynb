{
 "cells": [
  {
   "cell_type": "markdown",
   "metadata": {},
   "source": [
    "## Manejo de Librerías"
   ]
  },
  {
   "cell_type": "markdown",
   "metadata": {},
   "source": [
    "Sklearn\n",
    "OpenCV"
   ]
  },
  {
   "cell_type": "code",
   "execution_count": 61,
   "metadata": {},
   "outputs": [],
   "source": [
    "import os"
   ]
  },
  {
   "cell_type": "code",
   "execution_count": 96,
   "metadata": {},
   "outputs": [],
   "source": [
    "import pandas as pd ## Dar un alias a la libreria ## Libreria para manejar data estructurada"
   ]
  },
  {
   "cell_type": "code",
   "execution_count": 3,
   "metadata": {},
   "outputs": [],
   "source": [
    "import numpy as np ## Procesar matrices"
   ]
  },
  {
   "cell_type": "code",
   "execution_count": null,
   "metadata": {},
   "outputs": [],
   "source": [
    "os.getcwd()"
   ]
  },
  {
   "cell_type": "code",
   "execution_count": 7,
   "metadata": {},
   "outputs": [
    {
     "name": "stdout",
     "output_type": "stream",
     "text": [
      "Requirement already satisfied: tweepy in c:\\programdata\\anaconda3\\lib\\site-packages (3.8.0)\n",
      "Requirement already satisfied: PySocks>=1.5.7 in c:\\programdata\\anaconda3\\lib\\site-packages (from tweepy) (1.6.8)\n",
      "Requirement already satisfied: six>=1.10.0 in c:\\users\\usuariolab\\appdata\\roaming\\python\\python37\\site-packages (from tweepy) (1.12.0)\n",
      "Requirement already satisfied: requests-oauthlib>=0.7.0 in c:\\programdata\\anaconda3\\lib\\site-packages (from tweepy) (1.2.0)\n",
      "Requirement already satisfied: requests>=2.11.1 in c:\\programdata\\anaconda3\\lib\\site-packages (from tweepy) (2.21.0)\n",
      "Requirement already satisfied: oauthlib>=3.0.0 in c:\\programdata\\anaconda3\\lib\\site-packages (from requests-oauthlib>=0.7.0->tweepy) (3.1.0)\n",
      "Requirement already satisfied: idna<2.9,>=2.5 in c:\\programdata\\anaconda3\\lib\\site-packages (from requests>=2.11.1->tweepy) (2.8)\n",
      "Requirement already satisfied: urllib3<1.25,>=1.21.1 in c:\\programdata\\anaconda3\\lib\\site-packages (from requests>=2.11.1->tweepy) (1.24.1)\n",
      "Requirement already satisfied: chardet<3.1.0,>=3.0.2 in c:\\programdata\\anaconda3\\lib\\site-packages (from requests>=2.11.1->tweepy) (3.0.4)\n",
      "Requirement already satisfied: certifi>=2017.4.17 in c:\\programdata\\anaconda3\\lib\\site-packages (from requests>=2.11.1->tweepy) (2018.11.29)\n"
     ]
    }
   ],
   "source": [
    "!pip install tweepy"
   ]
  },
  {
   "cell_type": "code",
   "execution_count": null,
   "metadata": {},
   "outputs": [],
   "source": [
    "## !pip install, actualizar o eliminar paquetes"
   ]
  },
  {
   "cell_type": "code",
   "execution_count": 8,
   "metadata": {},
   "outputs": [],
   "source": [
    "import tweepy"
   ]
  },
  {
   "cell_type": "code",
   "execution_count": 11,
   "metadata": {},
   "outputs": [
    {
     "data": {
      "text/plain": [
       "['.ipynb_checkpoints',\n",
       " 'ArchivoTest.txt',\n",
       " 'ejercicio.txt',\n",
       " 'Python4.ipynb',\n",
       " 'Python5.ipynb',\n",
       " 'Salida.txt']"
      ]
     },
     "execution_count": 11,
     "metadata": {},
     "output_type": "execute_result"
    }
   ],
   "source": [
    "os.listdir() ## Como dir es del sistema, listdir retorna dir en una forma que se puede procesar"
   ]
  },
  {
   "cell_type": "code",
   "execution_count": 12,
   "metadata": {},
   "outputs": [
    {
     "data": {
      "text/plain": [
       "['$RECYCLE.BIN',\n",
       " '000219194-000176788 - Acceso directo.lnk',\n",
       " '000219194-000176788.zip',\n",
       " 'Ayuda',\n",
       " 'borraperfil.bat',\n",
       " 'Caso 1',\n",
       " 'copiaLinks.bat',\n",
       " 'corrige3b.xlsm',\n",
       " 'DATA',\n",
       " 'DelProf2.exe',\n",
       " 'ej4.wf1',\n",
       " 'EJERCICIO PROYECTOS - RUTA CRITICA 1.xlsx',\n",
       " 'Ejercicio2_2019_1 CASI.xlsx',\n",
       " 'Ejercicios_de_PC_Pasada hecha.xlsx',\n",
       " 'EPP dirigida1',\n",
       " 'EVIEWS',\n",
       " 'EVIEWS_PASADO.zip',\n",
       " 'EXAMEN AMN',\n",
       " 'examen final AMN',\n",
       " 'Examen Final FEP 2919-1-1 CRISTOBAL PFLUCKER.xlsx',\n",
       " 'Examen Final FEP 2919-1.xlsx',\n",
       " 'Examen Final FEP 2919-1_1.xlsx',\n",
       " 'examen.prg',\n",
       " 'examen.WF1',\n",
       " 'examen.~rg',\n",
       " 'ExamenPacial_FEP_2019-1 - Graciela Nicole Borjas Alvarez.xlsx',\n",
       " 'Final',\n",
       " 'icono (1).ico',\n",
       " 'material_esta',\n",
       " 'Nueva carpeta',\n",
       " 'parcial y caso 20192',\n",
       " 'REA',\n",
       " 'REPARA.xlsm',\n",
       " 'System Volume Information',\n",
       " 'Trimestral.xlsx',\n",
       " 'UP-az-GRAFICOS DIVERSOS-ENUNCIADO-pppp.xlsx',\n",
       " 'UP-az-GRAFICOS DIVERSOS-ENUNCIADO.xlsx',\n",
       " 'UPNiveInfo 002 - Formatos (1).xlsx',\n",
       " 'UPNiveInfo03.1-AZ-Ejercicios de Formatos con info de fuentes (1).xlsx',\n",
       " 'UPNiveInfo11 - Graficos (1).xlsx']"
      ]
     },
     "execution_count": 12,
     "metadata": {},
     "output_type": "execute_result"
    }
   ],
   "source": [
    "os.listdir(\"D:\")"
   ]
  },
  {
   "cell_type": "code",
   "execution_count": 13,
   "metadata": {},
   "outputs": [
    {
     "data": {
      "text/plain": [
       "12"
      ]
     },
     "execution_count": 13,
     "metadata": {},
     "output_type": "execute_result"
    }
   ],
   "source": [
    "os.cpu_count()"
   ]
  },
  {
   "cell_type": "code",
   "execution_count": 44,
   "metadata": {},
   "outputs": [
    {
     "name": "stdout",
     "output_type": "stream",
     "text": [
      "['.ipynb_checkpoints', 'lol.txt', 'test2', 'xd.txt']\n"
     ]
    }
   ],
   "source": [
    "var = os.listdir(\"test/\")\n",
    "\n",
    "\"abc.txt\" in var\n",
    "\n",
    "os.listdir(\"test/test2/\")\n",
    "\n",
    "print(var)"
   ]
  },
  {
   "cell_type": "code",
   "execution_count": 52,
   "metadata": {},
   "outputs": [
    {
     "data": {
      "text/plain": [
       "['.ipynb_checkpoints', 'lol.txt', 'test2', 'xd.txt']"
      ]
     },
     "execution_count": 52,
     "metadata": {},
     "output_type": "execute_result"
    }
   ],
   "source": [
    "os.listdir(\"test/\")"
   ]
  },
  {
   "cell_type": "code",
   "execution_count": 88,
   "metadata": {},
   "outputs": [
    {
     "name": "stdout",
     "output_type": "stream",
     "text": [
      ".ipynb_checkpoints False\n",
      "ArchivoTest.txt True\n",
      "ejercicio.txt True\n",
      "Python4.ipynb True\n",
      "Python5.ipynb True\n",
      "Salida.txt True\n",
      "test2 False\n"
     ]
    }
   ],
   "source": [
    "var = os.listdir(\"test/\")\n",
    "for i in var:\n",
    "    print (i + \" \" + str(os.path.isfile(i)))"
   ]
  },
  {
   "cell_type": "code",
   "execution_count": 140,
   "metadata": {},
   "outputs": [
    {
     "name": "stdout",
     "output_type": "stream",
     "text": [
      "ingrese dirección: test/\n",
      "ingrese nombre de archivo abc.xxx lol.txt\n",
      "Archivo no encontrado\n",
      "Archivo econtrado\n",
      "Archivo no encontrado\n"
     ]
    }
   ],
   "source": [
    "def funcion(direc, archivo):\n",
    "\n",
    "    enc = False\n",
    "    \n",
    "    var = os.listdir(direc)\n",
    "    \n",
    "    if archivo in var:\n",
    "        print(\"Archivo econtrado\")\n",
    "        enc = True\n",
    "    else:\n",
    "        for x in var:\n",
    "            if (os.path.isfile(x) == False):\n",
    "                funcion(direc+x+\"/\",archivo)\n",
    "                \n",
    "    if enc == False:\n",
    "        print(\"Archivo no encontrado\")\n",
    "    \n",
    "direc = input(\"ingrese dirección: \")\n",
    "archivo = input(\"ingrese nombre de archivo abc.xxx \")\n",
    "\n",
    "funcion(direc, archivo)"
   ]
  },
  {
   "cell_type": "code",
   "execution_count": 105,
   "metadata": {},
   "outputs": [
    {
     "data": {
      "text/html": [
       "<div>\n",
       "<style scoped>\n",
       "    .dataframe tbody tr th:only-of-type {\n",
       "        vertical-align: middle;\n",
       "    }\n",
       "\n",
       "    .dataframe tbody tr th {\n",
       "        vertical-align: top;\n",
       "    }\n",
       "\n",
       "    .dataframe thead th {\n",
       "        text-align: right;\n",
       "    }\n",
       "</style>\n",
       "<table border=\"1\" class=\"dataframe\">\n",
       "  <thead>\n",
       "    <tr style=\"text-align: right;\">\n",
       "      <th></th>\n",
       "      <th>Nombre</th>\n",
       "      <th>Edad</th>\n",
       "      <th>Direccion</th>\n",
       "    </tr>\n",
       "  </thead>\n",
       "  <tbody>\n",
       "    <tr>\n",
       "      <th>0</th>\n",
       "      <td>Juan</td>\n",
       "      <td>20</td>\n",
       "      <td>Calle Abc</td>\n",
       "    </tr>\n",
       "    <tr>\n",
       "      <th>1</th>\n",
       "      <td>Luis</td>\n",
       "      <td>25</td>\n",
       "      <td>Calle XYZ</td>\n",
       "    </tr>\n",
       "    <tr>\n",
       "      <th>2</th>\n",
       "      <td>Maria</td>\n",
       "      <td>30</td>\n",
       "      <td>Calle 20</td>\n",
       "    </tr>\n",
       "  </tbody>\n",
       "</table>\n",
       "</div>"
      ],
      "text/plain": [
       "  Nombre  Edad  Direccion\n",
       "0   Juan    20  Calle Abc\n",
       "1   Luis    25  Calle XYZ\n",
       "2  Maria    30   Calle 20"
      ]
     },
     "execution_count": 105,
     "metadata": {},
     "output_type": "execute_result"
    }
   ],
   "source": [
    "## DataFrame\n",
    "\n",
    "df = pd.read_excel(\"data.xlsx\")\n",
    "df = pd.read_csv(\"datax.csv\")\n",
    "df"
   ]
  },
  {
   "cell_type": "code",
   "execution_count": 104,
   "metadata": {},
   "outputs": [
    {
     "data": {
      "text/html": [
       "<div>\n",
       "<style scoped>\n",
       "    .dataframe tbody tr th:only-of-type {\n",
       "        vertical-align: middle;\n",
       "    }\n",
       "\n",
       "    .dataframe tbody tr th {\n",
       "        vertical-align: top;\n",
       "    }\n",
       "\n",
       "    .dataframe thead th {\n",
       "        text-align: right;\n",
       "    }\n",
       "</style>\n",
       "<table border=\"1\" class=\"dataframe\">\n",
       "  <thead>\n",
       "    <tr style=\"text-align: right;\">\n",
       "      <th></th>\n",
       "      <th>Edad</th>\n",
       "    </tr>\n",
       "  </thead>\n",
       "  <tbody>\n",
       "    <tr>\n",
       "      <th>count</th>\n",
       "      <td>3.0</td>\n",
       "    </tr>\n",
       "    <tr>\n",
       "      <th>mean</th>\n",
       "      <td>25.0</td>\n",
       "    </tr>\n",
       "    <tr>\n",
       "      <th>std</th>\n",
       "      <td>5.0</td>\n",
       "    </tr>\n",
       "    <tr>\n",
       "      <th>min</th>\n",
       "      <td>20.0</td>\n",
       "    </tr>\n",
       "    <tr>\n",
       "      <th>25%</th>\n",
       "      <td>22.5</td>\n",
       "    </tr>\n",
       "    <tr>\n",
       "      <th>50%</th>\n",
       "      <td>25.0</td>\n",
       "    </tr>\n",
       "    <tr>\n",
       "      <th>75%</th>\n",
       "      <td>27.5</td>\n",
       "    </tr>\n",
       "    <tr>\n",
       "      <th>max</th>\n",
       "      <td>30.0</td>\n",
       "    </tr>\n",
       "  </tbody>\n",
       "</table>\n",
       "</div>"
      ],
      "text/plain": [
       "       Edad\n",
       "count   3.0\n",
       "mean   25.0\n",
       "std     5.0\n",
       "min    20.0\n",
       "25%    22.5\n",
       "50%    25.0\n",
       "75%    27.5\n",
       "max    30.0"
      ]
     },
     "execution_count": 104,
     "metadata": {},
     "output_type": "execute_result"
    }
   ],
   "source": [
    "df.describe()"
   ]
  },
  {
   "cell_type": "code",
   "execution_count": 120,
   "metadata": {},
   "outputs": [
    {
     "data": {
      "text/plain": [
       "20"
      ]
     },
     "execution_count": 120,
     "metadata": {},
     "output_type": "execute_result"
    }
   ],
   "source": [
    "df.Edad.min()"
   ]
  },
  {
   "cell_type": "code",
   "execution_count": 126,
   "metadata": {},
   "outputs": [
    {
     "data": {
      "text/plain": [
       "2    Maria\n",
       "Name: Nombre, dtype: object"
      ]
     },
     "execution_count": 126,
     "metadata": {},
     "output_type": "execute_result"
    }
   ],
   "source": [
    "df[\"Nombre\"][df.Edad == df.Edad.max()]"
   ]
  },
  {
   "cell_type": "code",
   "execution_count": 130,
   "metadata": {},
   "outputs": [
    {
     "data": {
      "text/plain": [
       "'Juan'"
      ]
     },
     "execution_count": 130,
     "metadata": {},
     "output_type": "execute_result"
    }
   ],
   "source": [
    "df[\"Nombre\"][df.Edad == df.Edad.min()].values[0]"
   ]
  },
  {
   "cell_type": "code",
   "execution_count": 131,
   "metadata": {},
   "outputs": [
    {
     "data": {
      "text/plain": [
       "Index(['Nombre', 'Edad', 'Direccion'], dtype='object')"
      ]
     },
     "execution_count": 131,
     "metadata": {},
     "output_type": "execute_result"
    }
   ],
   "source": [
    "df.columns"
   ]
  }
 ],
 "metadata": {
  "kernelspec": {
   "display_name": "Python 3",
   "language": "python",
   "name": "python3"
  },
  "language_info": {
   "codemirror_mode": {
    "name": "ipython",
    "version": 3
   },
   "file_extension": ".py",
   "mimetype": "text/x-python",
   "name": "python",
   "nbconvert_exporter": "python",
   "pygments_lexer": "ipython3",
   "version": "3.7.1"
  }
 },
 "nbformat": 4,
 "nbformat_minor": 2
}
