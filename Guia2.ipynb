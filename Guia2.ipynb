{
 "cells": [
  {
   "cell_type": "markdown",
   "metadata": {},
   "source": [
    "## Guía 2"
   ]
  },
  {
   "cell_type": "code",
   "execution_count": 1,
   "metadata": {},
   "outputs": [
    {
     "name": "stdout",
     "output_type": "stream",
     "text": [
      "ingrese numero 10\n",
      "ingrese numero 20\n",
      "ingrese numero 30\n"
     ]
    },
    {
     "ename": "NameError",
     "evalue": "name 'mayor' is not defined",
     "output_type": "error",
     "traceback": [
      "\u001b[1;31m---------------------------------------------------------------------------\u001b[0m",
      "\u001b[1;31mNameError\u001b[0m                                 Traceback (most recent call last)",
      "\u001b[1;32m<ipython-input-1-7ac74c210ee9>\u001b[0m in \u001b[0;36m<module>\u001b[1;34m\u001b[0m\n\u001b[0;32m     37\u001b[0m \u001b[1;33m\u001b[0m\u001b[0m\n\u001b[0;32m     38\u001b[0m \u001b[1;31m## Escribir resultados\u001b[0m\u001b[1;33m\u001b[0m\u001b[1;33m\u001b[0m\u001b[1;33m\u001b[0m\u001b[0m\n\u001b[1;32m---> 39\u001b[1;33m \u001b[0mprint\u001b[0m\u001b[1;33m(\u001b[0m\u001b[0mmayor\u001b[0m\u001b[1;33m,\u001b[0m \u001b[1;34m\"es mayor\"\u001b[0m\u001b[1;33m,\u001b[0m\u001b[1;34m'\\n'\u001b[0m\u001b[1;33m,\u001b[0m \u001b[0mmedio\u001b[0m\u001b[1;33m,\u001b[0m \u001b[1;34m\"es medio\"\u001b[0m\u001b[1;33m,\u001b[0m\u001b[1;34m'\\n'\u001b[0m\u001b[1;33m,\u001b[0m \u001b[0mmenor\u001b[0m\u001b[1;33m,\u001b[0m \u001b[1;34m\"es menor\"\u001b[0m\u001b[1;33m)\u001b[0m\u001b[1;33m\u001b[0m\u001b[1;33m\u001b[0m\u001b[0m\n\u001b[0m",
      "\u001b[1;31mNameError\u001b[0m: name 'mayor' is not defined"
     ]
    }
   ],
   "source": [
    "## 1)\n",
    "\n",
    "## Ingreso de variables\n",
    "N1 = int(input(\"ingrese numero 1\"))\n",
    "N2 = int(input(\"ingrese numero 2\"))\n",
    "N3 = int(input(\"ingrese numero 3\"))\n",
    "\n",
    "## N1 es el mayor\n",
    "if ((N2 > N1)and(N1 > N3)):\n",
    "    mayor = N1\n",
    "    if (N2 > N1):\n",
    "        medio = N2\n",
    "        menor = N1\n",
    "    elif (N2 > N3):\n",
    "            medio = N2\n",
    "            menor = N1\n",
    "            \n",
    "## N2 es el mayor\n",
    "if ((N2 > N1)and(N2 > N3)):\n",
    "    mayor = N2\n",
    "    if (N2 > N3):\n",
    "        medio = N1\n",
    "        menor = N3\n",
    "    elif (N3 > N1):\n",
    "        medio = N3\n",
    "        menor = N1\n",
    "            \n",
    "## N3 es el mayor\n",
    "if ((N3 > N1)and(N3 > N2)):\n",
    "    mayor = N3\n",
    "    if (N1 > N2):\n",
    "        medio = N1\n",
    "        menor = N2\n",
    "    else:\n",
    "            medio = N2\n",
    "            menor = N1\n",
    "\n",
    "## Escribir resultados\n",
    "print(mayor, \"es mayor\",'\\n', medio, \"es medio\",'\\n', menor, \"es menor\")"
   ]
  },
  {
   "cell_type": "code",
   "execution_count": 1,
   "metadata": {},
   "outputs": [
    {
     "name": "stdout",
     "output_type": "stream",
     "text": [
      "cual es la distancia?12\n",
      "el costo es:  84.0\n"
     ]
    }
   ],
   "source": [
    "## 2)\n",
    "\n",
    "## Ingreso de variables\n",
    "distancia = float(input(\"cual es la distancia?\"))\n",
    "\n",
    "if (distancia >= 5):\n",
    "        costo = 7*distancia\n",
    "else:\n",
    "        costo = 25\n",
    "print(\"el costo es: \", costo)"
   ]
  },
  {
   "cell_type": "code",
   "execution_count": 2,
   "metadata": {},
   "outputs": [
    {
     "name": "stdout",
     "output_type": "stream",
     "text": [
      "nota 1?13\n",
      "nota 2?20\n",
      "nota 3?20\n",
      "el promedio es:  18.333333333333332\n"
     ]
    }
   ],
   "source": [
    "## 3)\n",
    "\n",
    "## Ingreso de variables\n",
    "nota1 = float(input(\"nota 1?\"))\n",
    "nota2 = float(input(\"nota 2?\"))\n",
    "nota3 = float(input(\"nota 3?\"))\n",
    "\n",
    "if (nota3 > 10):\n",
    "    nota3 = nota3 + 2\n",
    "    \n",
    "prom = (nota1 + nota2 + nota3)/3\n",
    "\n",
    "if (prom > 20):\n",
    "    prom = 20\n",
    "    \n",
    "print(\"el promedio es: \", prom)"
   ]
  },
  {
   "cell_type": "code",
   "execution_count": 5,
   "metadata": {},
   "outputs": [
    {
     "name": "stdout",
     "output_type": "stream",
     "text": [
      "ingrese promedio18\n",
      "categoria es:  A\n"
     ]
    }
   ],
   "source": [
    "## 4)\n",
    "\n",
    "## Ingreso de variables\n",
    "prom = float(input(\"ingrese promedio\"))\n",
    "cat = 'A'\n",
    "\n",
    "if (prom <= 11):\n",
    "    cat = 'D'\n",
    "elif (prom <= 13):\n",
    "    cat = 'C'\n",
    "elif (prom <= 16):\n",
    "    cat = 'B'\n",
    "    \n",
    "print(\"categoria es: \",cat)"
   ]
  },
  {
   "cell_type": "code",
   "execution_count": 6,
   "metadata": {},
   "outputs": [
    {
     "name": "stdout",
     "output_type": "stream",
     "text": [
      "ingresos?10200\n",
      "ingrese el costo5000\n",
      "1500.0 41.666666666666664\n"
     ]
    }
   ],
   "source": [
    "## 5)\n",
    "\n",
    "## Ingreso de variables\n",
    "ingreso = float(input(\"ingresos?\"))\n",
    "costo = float(input(\"ingrese el costo\"))\n",
    "\n",
    "if (ingreso < 8000):\n",
    "    enganche = 0.15*costo\n",
    "    precio = (costo - enganche)/(10*12)\n",
    "else:\n",
    "    enganche = 0.3*costo\n",
    "    precio = (costo - enganche)/(7*12)\n",
    "    \n",
    "print(enganche, precio)\n"
   ]
  },
  {
   "cell_type": "code",
   "execution_count": 19,
   "metadata": {},
   "outputs": [
    {
     "name": "stdout",
     "output_type": "stream",
     "text": [
      "ingrese superficie.04\n",
      "se planta  0.016  de pino\n",
      "se planta  0.012  de oyamel\n",
      "se planta  0.006666666666666666  de cedro\n"
     ]
    }
   ],
   "source": [
    "# 6)\n",
    "\n",
    "## Ingreso de variables\n",
    "s = float(input(\"ingrese superficie\"))\n",
    "\n",
    "if (s > 1):\n",
    "    pino = ((0.7*s)/10)*8\n",
    "    oyamel = ((0.2*s)/15)*15\n",
    "    cedro = ((s - oyamel - pino)/18)*10\n",
    "else:\n",
    "    pino = ((0.5*s)/10)*8\n",
    "    oyamel = ((0.3*s)/15)*15\n",
    "    cedro = ((s - oyamel - pino)/18)*10\n",
    "    \n",
    "print(\"se planta \", pino, \" de pino\")\n",
    "print(\"se planta \", oyamel, \" de oyamel\")\n",
    "print(\"se planta \", cedro, \" de cedro\")"
   ]
  },
  {
   "cell_type": "code",
   "execution_count": 3,
   "metadata": {},
   "outputs": [
    {
     "name": "stdout",
     "output_type": "stream",
     "text": [
      "Ingrese condicion: estable\n",
      "ingrese el mes: julio\n",
      "ingrese anios de servicio: 5\n",
      "salario es:  11520.0\n"
     ]
    }
   ],
   "source": [
    "## 7)\n",
    "\n",
    "## Ingreso de variables\n",
    "condicion = input(\"Ingrese condicion: \")\n",
    "mes = input(\"ingrese el mes: \")\n",
    "servicio = int(input(\"ingrese anios de servicio: \"))\n",
    "\n",
    "## Creacion de variables de apoyo\n",
    "sueldomensual = 0\n",
    "gratificacion = 1\n",
    "\n",
    "## Condicion de trabajador\n",
    "if condicion == \"contratado\":\n",
    "    sueldomensual = 1200\n",
    "elif condicion == \"estable\":\n",
    "    sueldomensual = 1000\n",
    "\n",
    "## Gratificacion\n",
    "if servicio <= 5:\n",
    "    gratificacion = 0.6\n",
    "elif servicio <= 10:\n",
    "    gratificacion = 0.8\n",
    "\n",
    "if (mes == \"julio\") or (mes == \"diciembre\"):\n",
    "    gratificacion = gratificacion*sueldomensual\n",
    "else:\n",
    "    gratificacion = 0\n",
    "    \n",
    "salario = sueldomensual*(1-0.09) + gratificacion\n",
    "\n",
    "print(\"salario es: \", salario)"
   ]
  },
  {
   "cell_type": "code",
   "execution_count": 5,
   "metadata": {},
   "outputs": [
    {
     "name": "stdout",
     "output_type": "stream",
     "text": [
      "ingrese cantidad: 20\n",
      "el precio es:  3.3\n",
      "el costo es:  66.0\n",
      "la ganancia es:  25.0\n"
     ]
    }
   ],
   "source": [
    "## 8)\n",
    "\n",
    "## Ingreso de variables\n",
    "cant = int(input(\"ingrese cantidad: \"))\n",
    "\n",
    "## Precio\n",
    "if (cant <= 9):\n",
    "    precio = 3.5\n",
    "elif (cant <= 99):\n",
    "    precio = 3.3\n",
    "elif (cant <= 499):\n",
    "    precio = 3.1\n",
    "elif (cant >= 500):\n",
    "    precio = 2.8\n",
    "    \n",
    "# Costo total y ganancia del vendedor\n",
    "costo = precio*cant\n",
    "ganancia = cant*1.25\n",
    "\n",
    "print(\"el precio es: \", precio)\n",
    "print(\"el costo es: \", costo)\n",
    "print(\"la ganancia es: \", ganancia)"
   ]
  },
  {
   "cell_type": "code",
   "execution_count": 7,
   "metadata": {},
   "outputs": [
    {
     "name": "stdout",
     "output_type": "stream",
     "text": [
      "ingrese capital: 1000000000000\n",
      "se destina a insumos:  499999996500.0\n",
      "se destina a incentivos:  499999996500.0\n"
     ]
    }
   ],
   "source": [
    "## 9)\n",
    "\n",
    "## Ingreso de variables\n",
    "capital = float(input(\"ingrese capital: \"))\n",
    "\n",
    "prestamo = 0\n",
    "\n",
    "if (capital < 0):\n",
    "    prestamo = 10000 - capital\n",
    "elif (capital <= 20000):\n",
    "    prestamo = 20000 - capital\n",
    "    \n",
    "saldo = prestamo + capital \n",
    "    \n",
    "## presupuesto\n",
    "equipo = 5000\n",
    "mobiliario = 2000\n",
    "insumos = (saldo - equipo - mobiliario)/2\n",
    "incentivos = insumos\n",
    "\n",
    "print(\"se destina a insumos: \", insumos)\n",
    "print(\"se destina a incentivos: \", incentivos)\n",
    "if (prestamo > 0):\n",
    "    print (\"se pedira al banco: \", prestamo)"
   ]
  },
  {
   "cell_type": "code",
   "execution_count": 11,
   "metadata": {},
   "outputs": [
    {
     "name": "stdout",
     "output_type": "stream",
     "text": [
      "ingrese tipo de seguro: A\n",
      "ingrese cantidad de personas: 100\n",
      "el monto anual a pagar es:  1056\n"
     ]
    }
   ],
   "source": [
    "## 10)\n",
    "## Ingreso de variables\n",
    "tipo = input(\"ingrese tipo de seguro: \")\n",
    "personas = int(input(\"ingrese cantidad de personas: \"))\n",
    "\n",
    "## Pago mensual y pago extra\n",
    "if (tipo == \"A\"):\n",
    "    pagom = 40\n",
    "    pagox = 8\n",
    "    max = 8\n",
    "elif (tipo == \"B\"):\n",
    "    pagom = 30\n",
    "    pagox = 8\n",
    "    max = 6\n",
    "elif (tipo == \"C\"):\n",
    "    pagom = 20\n",
    "    pagox = 5\n",
    "    max = 4\n",
    "elif (tipo == \"D\"):\n",
    "    pagom = 10\n",
    "    pagox = 5\n",
    "    max = 2\n",
    "\n",
    "if (max >= personas):\n",
    "    monto = pagom*personas\n",
    "else:\n",
    "    monto = pagom*max + pagox*(personas-max)\n",
    "    \n",
    "print(\"el monto anual a pagar es: \", monto)"
   ]
  }
 ],
 "metadata": {
  "kernelspec": {
   "display_name": "Python 3",
   "language": "python",
   "name": "python3"
  },
  "language_info": {
   "codemirror_mode": {
    "name": "ipython",
    "version": 3
   },
   "file_extension": ".py",
   "mimetype": "text/x-python",
   "name": "python",
   "nbconvert_exporter": "python",
   "pygments_lexer": "ipython3",
   "version": "3.7.3"
  }
 },
 "nbformat": 4,
 "nbformat_minor": 2
}
