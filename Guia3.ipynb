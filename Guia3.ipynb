{
 "cells": [
  {
   "cell_type": "markdown",
   "metadata": {},
   "source": [
    "## Guia 3"
   ]
  },
  {
   "cell_type": "code",
   "execution_count": null,
   "metadata": {},
   "outputs": [],
   "source": [
    "## 1)\n",
    "\n",
    "n = int(input(\"ingrese numero, por favor: \"))\n",
    "suma = 0\n",
    "\n",
    "while (n != 0):\n",
    "    suma = suma + n\n",
    "    n = int(input(\"ingrese numero, por favor: \"))\n",
    "\n",
    "print(\"la suma es: \", suma)"
   ]
  },
  {
   "cell_type": "code",
   "execution_count": null,
   "metadata": {},
   "outputs": [],
   "source": [
    "## 2)\n",
    "\n",
    "suma = 0\n",
    "n = 0\n",
    "p = int(input(\"ingrese numero\"))\n",
    "\n",
    "while (p >= 0):\n",
    "    suma = suma + p\n",
    "    n = n + 1\n",
    "    p = int(input(\"ingrese numero\"))\n",
    "\n",
    "promedio = suma/n\n",
    "\n",
    "print(\"el promedio es: \", promedio)"
   ]
  },
  {
   "cell_type": "code",
   "execution_count": null,
   "metadata": {},
   "outputs": [],
   "source": [
    "## 3)\n",
    "\n",
    "mayor = 0\n",
    "menor = 0\n",
    "\n",
    "edad = float(input(\"Ingresar edad\"))\n",
    "\n",
    "while (edad != 0):\n",
    "    if (edad >= 18):\n",
    "        mayor = mayor + 1\n",
    "    else:\n",
    "        menor = menor + 1\n",
    "    edad = float(input(\"Ingresar edad\"))\n",
    "\n",
    "print(\"son mayores: \", mayor)\n",
    "print(\"son maenores: \", menor)"
   ]
  },
  {
   "cell_type": "code",
   "execution_count": null,
   "metadata": {},
   "outputs": [],
   "source": [
    "## 4)\n",
    "\n",
    "p = float(input(\"ingrese nota\"))\n",
    "A = 0\n",
    "B = 0\n",
    "C = 0\n",
    "n = 0\n",
    "\n",
    "while (p >= 0):\n",
    "    if(p <= 29):\n",
    "        C = C + 1\n",
    "    elif (p <= 69):\n",
    "        B = B + 1\n",
    "    else:\n",
    "        A = A + 1\n",
    "    p = float(input(\"ingrese nota\"))\n",
    "    n = n + 1\n",
    "\n",
    "print(\"# estudiantes: \", n)\n",
    "print(\"# A: \", A)\n",
    "print(\"# B: \", B)\n",
    "print(\"# C: \", C)"
   ]
  },
  {
   "cell_type": "code",
   "execution_count": null,
   "metadata": {},
   "outputs": [],
   "source": [
    "## 5)\n",
    "\n",
    "producto = input(\"ingrese tipo de producto: \")\n",
    "cant = int(input(\"ingrese cantidad: \"))\n",
    "venta = 0\n",
    "\n",
    "while ((producto == 'A')or(producto == 'B')or(producto == 'C')or(producto == 'D')):\n",
    "    \n",
    "    if(producto == 'A'):\n",
    "        venta = venta + 12.6*cant\n",
    "    elif (producto == 'B'):\n",
    "        venta = venta + 23.5*cant\n",
    "    elif (producto == 'C'):\n",
    "        venta = venta + 27.4*cant\n",
    "    elif (producto == 'D'):\n",
    "        venta = venta + 31.7*cant\n",
    "        \n",
    "    producto = input(\"ingrese tipo de producto: \")\n",
    "    cant = int(input(\"ingrese cantidad: \"))\n",
    "\n",
    "print(\"Las ventas son: \", venta)"
   ]
  },
  {
   "cell_type": "code",
   "execution_count": 3,
   "metadata": {},
   "outputs": [
    {
     "name": "stdout",
     "output_type": "stream",
     "text": [
      "ingrese numero de productos: 3\n",
      "ingrese precio: 14\n",
      "Ingrese tipo de producto (V o C)V\n",
      "Ingrese procedencia (N o I) N\n",
      "ingrese precio: 10\n",
      "Ingrese tipo de producto (V o C)V\n",
      "Ingrese procedencia (N o I) C\n",
      "ingrese precio: 5\n",
      "Ingrese tipo de producto (V o C)C\n",
      "Ingrese procedencia (N o I) I\n",
      "el menor precio es:  5.0\n",
      "el precio promedio de productos nacionales es :  14.0\n",
      "el precio promedio de productos internacionales es :  5.0\n",
      "la cantidad de comida es:  1\n",
      "la cantidad de comida es:  2\n"
     ]
    }
   ],
   "source": [
    "### 6)\n",
    "\n",
    "N = int(input(\"ingrese numero de productos: \"))\n",
    "\n",
    "promn = 0\n",
    "promi = 0\n",
    "qn = 0\n",
    "qi = 0\n",
    "qv = 0\n",
    "qc = 0\n",
    "\n",
    "menorp = 0\n",
    "\n",
    "for x in range(1, N+1):\n",
    "    \n",
    "    # Entrada de info\n",
    "    precio = float(input(\"ingrese precio: \"))\n",
    "    tipo = input(\"Ingrese tipo de producto (V o C)\")\n",
    "    proc = input(\"Ingrese procedencia (N o I) \")\n",
    "    \n",
    "    ## Primera entrada\n",
    "    if x == 1:\n",
    "        menorp = precio\n",
    "    \n",
    "    ## Menor precio\n",
    "    if precio < menorp:\n",
    "        menorp = precio\n",
    "    \n",
    "    ## Cantidades por tipo\n",
    "    if tipo == \"V\":\n",
    "        qv = qv + 1\n",
    "    elif tipo == \"C\":\n",
    "        qc = qc + 1\n",
    "        \n",
    "    ## Promedio según procedencia\n",
    "    if proc == \"N\":\n",
    "        qn = qn +1\n",
    "        promn = promn + precio\n",
    "    elif proc == \"I\":\n",
    "        qi = qi + 1\n",
    "        promi = promi + precio\n",
    "    \n",
    "\n",
    "promi = promi/qi\n",
    "promn = promn/qn\n",
    "\n",
    "print(\"el menor precio es: \", menorp)\n",
    "print(\"el precio promedio de productos nacionales es : \", promn)\n",
    "print(\"el precio promedio de productos internacionales es : \", promi)\n",
    "print(\"la cantidad de comida es: \", qc)\n",
    "print(\"la cantidad de comida es: \", qv)"
   ]
  },
  {
   "cell_type": "code",
   "execution_count": 4,
   "metadata": {},
   "outputs": [
    {
     "name": "stdout",
     "output_type": "stream",
     "text": [
      "Ingrese el tiempo: 10\n",
      "Ingrese el tiempo: 13\n",
      "Ingrese el tiempo: 15\n",
      "Ingrese el tiempo: 16\n",
      "Ingrese el tiempo: 10\n",
      "Ingrese el tiempo: 5\n",
      "Ingrese el tiempo: 2\n",
      "Ingrese el tiempo: 10\n",
      "Ingrese el tiempo: 16\n",
      "Ingrese el tiempo: 17\n",
      "es apto\n"
     ]
    }
   ],
   "source": [
    "## 7)\n",
    "\n",
    "cond1 = True\n",
    "cond2 = False\n",
    "cond3 = False\n",
    "acum = 0\n",
    "\n",
    "for x in range(0,10):\n",
    "    tiempo = float(input(\"Ingrese el tiempo: \"))\n",
    "    \n",
    "    ## Condicion 1 (ninguna con t > 16)\n",
    "    if tiempo > 16:\n",
    "        cond1 = False\n",
    "    \n",
    "    ## Condicion 2 (al menos una con t > 16)\n",
    "    if tiempo < 16:\n",
    "        cond2 = True\n",
    "        \n",
    "    ## Condicion 3 (promedio <= 10)\n",
    "    acum = acum + tiempo\n",
    "\n",
    "## Condicion 3 (promedio <= 10)\n",
    "if (acum/10) <= 10:\n",
    "    cond3 = True\n",
    "    \n",
    "if ((cond1) == True) or ((cond2) == True) or ((cond3) == True):\n",
    "    print(\"es apto\")\n",
    "else:\n",
    "    print(\"no es apto\")"
   ]
  },
  {
   "cell_type": "code",
   "execution_count": 6,
   "metadata": {},
   "outputs": [
    {
     "name": "stdout",
     "output_type": "stream",
     "text": [
      "Ingrese N: 1\n",
      "suma es:  3.0476190476190474\n"
     ]
    }
   ],
   "source": [
    "## 8)\n",
    "\n",
    "N = int(input(\"Ingrese N: \"))\n",
    "suma = 0\n",
    "\n",
    "for x in range(0,N):\n",
    "    suma = suma + (64 - 2*x)/(21 + 3*x)\n",
    "    \n",
    "print(\"suma es: \", suma)"
   ]
  },
  {
   "cell_type": "code",
   "execution_count": 82,
   "metadata": {},
   "outputs": [
    {
     "name": "stdout",
     "output_type": "stream",
     "text": [
      "Ingrese N: 1\n",
      "suma es:  16\n"
     ]
    }
   ],
   "source": [
    "## 9)\n",
    "\n",
    "N = int(input(\"Ingrese N: \"))\n",
    "suma = 0\n",
    "\n",
    "for x in range(0,N):\n",
    "    suma = suma + ((-1)**x)*(3**(x))*16\n",
    "    \n",
    "print(\"suma es: \", suma)"
   ]
  },
  {
   "cell_type": "code",
   "execution_count": 136,
   "metadata": {},
   "outputs": [
    {
     "name": "stdout",
     "output_type": "stream",
     "text": [
      "Ingrese N: 2\n",
      "suma es:  6\n"
     ]
    }
   ],
   "source": [
    "## 10)\n",
    "\n",
    "N = int(input(\"Ingrese N: \"))\n",
    "suma = 0\n",
    "cont = 2\n",
    "\n",
    "for x in range(0,N):\n",
    "    cont = cont*(x + 1)\n",
    "    suma = suma + cont\n",
    "    \n",
    "print(\"suma es: \", suma)"
   ]
  },
  {
   "cell_type": "markdown",
   "metadata": {},
   "source": [
    "## Parte 2"
   ]
  },
  {
   "cell_type": "code",
   "execution_count": 144,
   "metadata": {},
   "outputs": [
    {
     "name": "stdout",
     "output_type": "stream",
     "text": [
      "ingrese N: 3\n",
      "1 \n",
      "1 2 \n",
      "1 2 3 \n"
     ]
    }
   ],
   "source": [
    "## 4)\n",
    "\n",
    "N = int(input(\"ingrese N: \"))\n",
    "\n",
    "for fila in range(1, N + 1):\n",
    "    for cont in range (1, fila + 1):\n",
    "        print(cont, end = ' ')\n",
    "    print(\"\")"
   ]
  },
  {
   "cell_type": "code",
   "execution_count": 158,
   "metadata": {},
   "outputs": [
    {
     "name": "stdout",
     "output_type": "stream",
     "text": [
      "De qué número quieres calcular el factorial? 50\n",
      "N! =  30414093201713378043612608166064768844377641568960512000000000000\n",
      "Deseas más factoriales (s/n)? s\n",
      "De qué número quieres calcular el factorial? 0\n",
      "N! =  1\n",
      "Deseas más factoriales (s/n)? s\n",
      "De qué número quieres calcular el factorial? 2\n",
      "N! =  2\n",
      "Deseas más factoriales (s/n)? s\n",
      "De qué número quieres calcular el factorial? 1\n",
      "N! =  1\n",
      "Deseas más factoriales (s/n)? s\n",
      "De qué número quieres calcular el factorial? 3\n",
      "N! =  6\n",
      "Deseas más factoriales (s/n)? n\n"
     ]
    }
   ],
   "source": [
    "## 5)\n",
    "\n",
    "operar = True\n",
    "\n",
    "while (operar == True):\n",
    "    \n",
    "    N = int(input(\"De qué número quieres calcular el factorial? \"))\n",
    "    factorial = 1\n",
    "    \n",
    "    for x in range(1,N + 1):\n",
    "        factorial = factorial*x\n",
    "    \n",
    "    print(\"N! = \", factorial)\n",
    "    mas = input(\"Deseas más factoriales (s/n)? \")\n",
    "    if mas == \"n\":\n",
    "        operar = False\n",
    "    elif mas == \"s\":\n",
    "        operar = True"
   ]
  },
  {
   "cell_type": "code",
   "execution_count": 195,
   "metadata": {},
   "outputs": [
    {
     "name": "stdout",
     "output_type": "stream",
     "text": [
      "18434\n"
     ]
    }
   ],
   "source": [
    "## 6)\n",
    "\n",
    "suma = 0\n",
    "\n",
    "for n in range(1,11):\n",
    "    suma = suma + (n)*(2**n)\n",
    "    \n",
    "print(suma)"
   ]
  },
  {
   "cell_type": "code",
   "execution_count": 203,
   "metadata": {},
   "outputs": [
    {
     "name": "stdout",
     "output_type": "stream",
     "text": [
      "Cuantas notas deseas introducir? 2\n",
      "1 nota: 10\n",
      "2 nota: 20\n",
      "Nota media resultante:  15.0\n"
     ]
    }
   ],
   "source": [
    "## 7)\n",
    "\n",
    "N = int(input(\"Cuantas notas deseas introducir? \"))\n",
    "suma = 0\n",
    "\n",
    "for x in range(1, N + 1):\n",
    "    print(x, end = '')\n",
    "    nota = float(input(\" nota: \"))\n",
    "    suma = suma + nota\n",
    "    \n",
    "print(\"Nota media resultante: \", suma/N)"
   ]
  },
  {
   "cell_type": "code",
   "execution_count": 206,
   "metadata": {},
   "outputs": [
    {
     "name": "stdout",
     "output_type": "stream",
     "text": [
      "ingrese N: 2\n",
      "* \n",
      "* * \n"
     ]
    }
   ],
   "source": [
    "## 8)\n",
    "\n",
    "N = int(input(\"ingrese N: \"))\n",
    "\n",
    "for fila in range(1, N + 1):\n",
    "    for cont in range (1, fila + 1):\n",
    "        print(\"*\", end = ' ')\n",
    "    print(\"\")"
   ]
  }
 ],
 "metadata": {
  "kernelspec": {
   "display_name": "Python 3",
   "language": "python",
   "name": "python3"
  },
  "language_info": {
   "codemirror_mode": {
    "name": "ipython",
    "version": 3
   },
   "file_extension": ".py",
   "mimetype": "text/x-python",
   "name": "python",
   "nbconvert_exporter": "python",
   "pygments_lexer": "ipython3",
   "version": "3.7.3"
  }
 },
 "nbformat": 4,
 "nbformat_minor": 2
}
